{
 "cells": [
  {
   "cell_type": "markdown",
   "metadata": {},
   "source": [
    "<h1>Presentation du projet d'indexion de texte</h1>"
   ]
  },
  {
   "cell_type": "code",
   "execution_count": null,
   "metadata": {
    "collapsed": true
   },
   "outputs": [],
   "source": [
    "from os import listdir\n",
    "from os.path import isfile, join\n",
    "from ipywidgets import FloatProgress\n",
    "from IPython.display import display\n",
    "from bs4 import BeautifulSoup as bs"
   ]
  },
  {
   "cell_type": "code",
   "execution_count": null,
   "metadata": {
    "collapsed": true
   },
   "outputs": [],
   "source": [
    "# Represent the constraint of memory\n",
    "NB_FILE = 1000\n",
    "DATA_PATH = \"../data/latimes/\""
   ]
  },
  {
   "cell_type": "code",
   "execution_count": null,
   "metadata": {
    "collapsed": true
   },
   "outputs": [],
   "source": [
    "##\n",
    "# The function build the index file composed by the voc and the associated posting list.\n",
    "##\n",
    "def buildIndexFile() :\n",
    "    print(\"Building index File\")\n",
    "    # We get the list of file containing the articles.\n",
    "    articles = [DATA_PATH + file for file in listdir(DATA_PATH) if (isfile(join(DATA_PATH, file)) and \".txt\" not in file) ]\n",
    "    progress_bar = FloatProgress(min=0, max=len(articles))\n",
    "    display(progress_bar)\n",
    "\n",
    "    \n",
    "    #We loop on each document composing the corpus.\n",
    "    for article in articles:\n",
    "        with open(article) as curArticle:\n",
    "            file = curArticle.read()\n",
    "            fileXML = bs(file,\"lxml\")\n",
    "            \n",
    "            # We loop on each doc tag\n",
    "            for document in fileXML.findAll('doc'):\n",
    "                docID = document.find(\"docid\").string\n",
    "                \n",
    "        curArticle.closed\n",
    "        progress_bar.value += 1"
   ]
  },
  {
   "cell_type": "markdown",
   "metadata": {},
   "source": [
    "<h2>Creation du posting file</h2>"
   ]
  },
  {
   "cell_type": "code",
   "execution_count": null,
   "metadata": {
    "collapsed": true,
    "scrolled": true
   },
   "outputs": [],
   "source": [
    "buildIndexFile()"
   ]
  },
  {
   "cell_type": "code",
   "execution_count": null,
   "metadata": {
    "collapsed": true
   },
   "outputs": [],
   "source": []
  }
 ],
 "metadata": {
  "kernelspec": {
   "display_name": "Python 3",
   "language": "python",
   "name": "python3"
  },
  "language_info": {
   "codemirror_mode": {
    "name": "ipython",
    "version": 3
   },
   "file_extension": ".py",
   "mimetype": "text/x-python",
   "name": "python",
   "nbconvert_exporter": "python",
   "pygments_lexer": "ipython3",
   "version": "3.6.2"
  }
 },
 "nbformat": 4,
 "nbformat_minor": 2
}
