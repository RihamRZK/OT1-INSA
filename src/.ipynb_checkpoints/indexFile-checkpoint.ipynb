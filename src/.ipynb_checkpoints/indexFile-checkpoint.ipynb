{
 "cells": [
  {
   "cell_type": "markdown",
   "metadata": {},
   "source": [
    "<h1>Presentation du projet d'indexion de texte</h1>"
   ]
  },
  {
   "cell_type": "code",
   "execution_count": null,
   "metadata": {},
   "outputs": [],
   "source": [
    "from os import listdir\n",
    "from os.path import isfile, join\n",
    "from ipywidgets import FloatProgress\n",
    "from IPython.display import display\n",
    "from bs4 import BeautifulSoup as bs\n",
    "import nltk"
   ]
  },
  {
   "cell_type": "code",
   "execution_count": null,
   "metadata": {},
   "outputs": [],
   "source": [
    "# Represent the constraint of memory\n",
    "NB_FILE = 1000\n",
    "DATA_PATH = \"../data/latimes/\"\n",
    "\n",
    "# link the tags with the importance in the text.\n",
    "TAGS_IMPORTANCE = {  'headline': 3,\n",
    "                     'text': 1,\n",
    "                     'section':1,\n",
    "                     'graphic':2\n",
    "                  }\n"
   ]
  },
  {
   "cell_type": "code",
   "execution_count": null,
   "metadata": {},
   "outputs": [],
   "source": [
    "##\n",
    "# The function build the index file composed by the voc and the associated posting list.\n",
    "##\n",
    "def buildIndexFile() :\n",
    "    print(\"Building index File\")\n",
    "    \n",
    "    # We get the list of file containing the articles.\n",
    "    articles = [DATA_PATH + file for file in listdir(DATA_PATH) if (isfile(join(DATA_PATH, file)) and \".txt\" not in file and \".DS_Store\" not in file )]\n",
    "    progress_bar = FloatProgress(min=0, max=len(articles))\n",
    "    display(progress_bar)\n",
    "    \n",
    "    # List containing the term and the number of time it appear.\n",
    "    vocList = {}\n",
    "\n",
    "    \n",
    "    #We loop on each document composing the corpus.\n",
    "    for article in articles:\n",
    "        with open(article) as curArticle:\n",
    "            file = curArticle.read()\n",
    "            fileXML = bs(file,\"lxml\")\n",
    "            \n",
    "            # We loop on each doc tag\n",
    "            for document in fileXML.findAll('doc'):\n",
    "                docID = document.find(\"docid\").string\n",
    "                \n",
    "                # get the text containing in the current article\n",
    "                curParagraph = document.find_all('p')\n",
    "                for paragraph in curParagraph:\n",
    "                   \n",
    "                    # We balance with the importance of the parent tag\n",
    "                    if paragraph.parent.name in TAGS_IMPORTANCE:\n",
    "                        for index in range(TAGS_IMPORTANCE[paragraph.parent.name]):\n",
    "                            textFormated = handleFormatText(paragraph.string,vocList)\n",
    "                            buildPostingList(textFormated)      \n",
    "             \n",
    "        curArticle.closed\n",
    "        progress_bar.value += 1"
   ]
  },
  {
   "cell_type": "code",
   "execution_count": null,
   "metadata": {},
   "outputs": [],
   "source": [
    "##\n",
    "# Format the text in the right form.\n",
    "# Tokenize and stem the text\n",
    "# Update the voc list passed in parameter.\n",
    "##\n",
    "def handleFormatText(paragraphContent, listVoc):  \n",
    "    # TODO\n",
    "    return 'TODO'"
   ]
  },
  {
   "cell_type": "code",
   "execution_count": null,
   "metadata": {},
   "outputs": [],
   "source": [
    "##\n",
    "# The function add the entry in the correct posting list\n",
    "##\n",
    "def buildPostingList(listVoc):  \n",
    "    # TODO\n",
    "    return 'TODO'"
   ]
  },
  {
   "cell_type": "markdown",
   "metadata": {},
   "source": [
    "<h2>Creation du index File</h2>"
   ]
  },
  {
   "cell_type": "code",
   "execution_count": null,
   "metadata": {
    "scrolled": false
   },
   "outputs": [],
   "source": [
    "buildIndexFile()"
   ]
  }
 ],
 "metadata": {
  "kernelspec": {
   "display_name": "Python 3",
   "language": "python",
   "name": "python3"
  },
  "language_info": {
   "codemirror_mode": {
    "name": "ipython",
    "version": 3
   },
   "file_extension": ".py",
   "mimetype": "text/x-python",
   "name": "python",
   "nbconvert_exporter": "python",
   "pygments_lexer": "ipython3",
   "version": "3.6.2"
  }
 },
 "nbformat": 4,
 "nbformat_minor": 2
}
