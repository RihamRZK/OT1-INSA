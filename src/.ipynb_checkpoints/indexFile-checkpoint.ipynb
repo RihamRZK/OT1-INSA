{
 "cells": [
  {
   "cell_type": "markdown",
   "metadata": {},
   "source": [
    "<h1>Presentation of the project of the indexation of files </h1>"
   ]
  },
  {
   "cell_type": "code",
   "execution_count": null,
   "metadata": {
    "collapsed": false
   },
   "outputs": [],
   "source": [
    "from os import listdir\n",
    "from os.path import isfile, join\n",
    "from ipywidgets import FloatProgress\n",
    "from IPython.display import display\n",
    "from bs4 import BeautifulSoup as bs\n",
    "from nltk import word_tokenize\n",
    "from nltk.corpus import stopwords\n",
    "from nltk.stem.porter import *\n",
    "import nltk\n",
    "import string\n",
    "import operator\n",
    "import shutil,os\n",
    "import re\n",
    "\n",
    "%load_ext autoreload\n",
    "%autoreload 1\n",
    "%aimport util_index\n",
    "%aimport util_posting\n",
    "%aimport fagin\n",
    "%aimport graph"
   ]
  },
  {
   "cell_type": "code",
   "execution_count": null,
   "metadata": {
    "collapsed": true
   },
   "outputs": [],
   "source": [
    "WRITING_PATH_POSTING_LIST = \"../data/saveFile/\"\n",
    "WRITING_PATH_UTIL = \"../data/util/\"\n",
    "NAME_DOC_LIST = \"docList\"\n",
    "NB_DOCUMENT = 1000"
   ]
  },
  {
   "cell_type": "markdown",
   "metadata": {},
   "source": [
    "<h1>Creation of the index File</h1>"
   ]
  },
  {
   "cell_type": "markdown",
   "metadata": {},
   "source": [
    "First we have to clean the repository of all old version of the algorithm."
   ]
  },
  {
   "cell_type": "code",
   "execution_count": null,
   "metadata": {
    "collapsed": false
   },
   "outputs": [],
   "source": [
    "util_index.cleanRepository(WRITING_PATH_POSTING_LIST)"
   ]
  },
  {
   "cell_type": "code",
   "execution_count": null,
   "metadata": {
    "collapsed": false,
    "scrolled": true
   },
   "outputs": [],
   "source": [
    "vocList = {}\n",
    "docLenght = {}\n",
    "util_index.buildIndexFile(vocList, docLenght, WRITING_PATH_POSTING_LIST, NB_DOCUMENT)"
   ]
  },
  {
   "cell_type": "markdown",
   "metadata": {},
   "source": [
    "writing in file, the format is : \"docId\" \"nombre Of word contained in the doc\""
   ]
  },
  {
   "cell_type": "code",
   "execution_count": null,
   "metadata": {
    "collapsed": true
   },
   "outputs": [],
   "source": [
    "util_index.writingDictInFile(docLenght, WRITING_PATH_UTIL, NAME_DOC_LIST, \" \")"
   ]
  },
  {
   "cell_type": "markdown",
   "metadata": {},
   "source": [
    "<h1> Creation Posting List</h1>"
   ]
  },
  {
   "cell_type": "code",
   "execution_count": null,
   "metadata": {
    "collapsed": false
   },
   "outputs": [],
   "source": [
    "util_posting.createPostingList()"
   ]
  },
  {
   "cell_type": "markdown",
   "metadata": {},
   "source": [
    "<h1>Graph Generation</h1>"
   ]
  },
  {
   "cell_type": "code",
   "execution_count": null,
   "metadata": {
    "collapsed": false
   },
   "outputs": [],
   "source": [
    "nbCuts = [10, 50, 100, 500, 1000, 5000, 10000, 50000]\n",
    "result = graph.computeDictRelationWithSizeTime(nbCuts,WRITING_PATH_POSTING_LIST, WRITING_PATH_UTIL, NAME_DOC_LIST)\n",
    "graph.displayResult( result,\n",
    "                    'trade-off size document / time needed to build posting list', \n",
    "                    'log(mean size document in bytes)',\n",
    "                    'time in second')"
   ]
  },
  {
   "cell_type": "markdown",
   "metadata": {},
   "source": [
    "<h1>Fagins</h1>"
   ]
  },
  {
   "cell_type": "code",
   "execution_count": null,
   "metadata": {
    "collapsed": false
   },
   "outputs": [],
   "source": [
    "posting_lists = util_posting.creat_posting_list_obj_list(\"cat dog\")"
   ]
  },
  {
   "cell_type": "code",
   "execution_count": null,
   "metadata": {
    "collapsed": false
   },
   "outputs": [],
   "source": [
    "resultFagin = fagin.top_k_thresh(posting_lists, 4, epsilon=0.0)"
   ]
  },
  {
   "cell_type": "code",
   "execution_count": null,
   "metadata": {
    "collapsed": false
   },
   "outputs": [],
   "source": [
    "print(resultFagin)"
   ]
  }
 ],
 "metadata": {
  "anaconda-cloud": {},
  "kernelspec": {
   "display_name": "Python [default]",
   "language": "python",
   "name": "python3"
  },
  "language_info": {
   "codemirror_mode": {
    "name": "ipython",
    "version": 3
   },
   "file_extension": ".py",
   "mimetype": "text/x-python",
   "name": "python",
   "nbconvert_exporter": "python",
   "pygments_lexer": "ipython3",
   "version": "3.5.2"
  },
  "widgets": {
   "state": {
    "2ff6ecca697547e0b22000216c90e1e7": {
     "views": [
      {
       "cell_index": 12
      }
     ]
    },
    "3d094a44e4194e338ef8f2eb1a8ba493": {
     "views": [
      {
       "cell_index": 12
      }
     ]
    },
    "88c1fcf1fe924be8a64d12b379979c1e": {
     "views": [
      {
       "cell_index": 12
      }
     ]
    },
    "cfaa7d3d585a4b41b93b277c9ca3bc0d": {
     "views": [
      {
       "cell_index": 12
      }
     ]
    }
   },
   "version": "1.2.0"
  }
 },
 "nbformat": 4,
 "nbformat_minor": 2
}
