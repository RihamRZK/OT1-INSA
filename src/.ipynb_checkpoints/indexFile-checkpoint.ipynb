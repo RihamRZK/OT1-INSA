{
 "cells": [
  {
   "cell_type": "markdown",
   "metadata": {},
   "source": [
    "<h1>Presentation of the project of the indexation of files </h1>"
   ]
  },
  {
   "cell_type": "code",
   "execution_count": null,
   "metadata": {
    "collapsed": false
   },
   "outputs": [],
   "source": [
    "from os import listdir\n",
    "from os.path import isfile, join\n",
    "from ipywidgets import FloatProgress\n",
    "from IPython.display import display\n",
    "from bs4 import BeautifulSoup as bs\n",
    "from nltk import word_tokenize\n",
    "from nltk.corpus import stopwords\n",
    "from nltk.stem.porter import *\n",
    "import nltk\n",
    "import string\n",
    "import operator\n",
    "import shutil,os\n",
    "import re\n",
    "\n",
    "%load_ext autoreload\n",
    "%autoreload 1\n",
    "%aimport util_index\n",
    "%aimport util_posting\n",
    "%aimport fagin\n",
    "%aimport graph"
   ]
  },
  {
   "cell_type": "code",
   "execution_count": null,
   "metadata": {
    "collapsed": true
   },
   "outputs": [],
   "source": [
    "WRITING_PATH_POSTING_LIST = \"../data/saveFile/\"\n",
    "WRITING_PATH_UTIL = \"../data/util/\"\n",
    "NAME_DOC_LIST = \"docList\"\n",
    "NB_DOCUMENT = 1000"
   ]
  },
  {
   "cell_type": "markdown",
   "metadata": {},
   "source": [
    "<h1>Creation of the index File</h1>"
   ]
  },
  {
   "cell_type": "markdown",
   "metadata": {},
   "source": [
    "First we have to clean the repository of all old version of the algorithm."
   ]
  },
  {
   "cell_type": "code",
   "execution_count": null,
   "metadata": {
    "collapsed": false
   },
   "outputs": [],
   "source": [
    "util_index.cleanRepository(WRITING_PATH_POSTING_LIST)"
   ]
  },
  {
   "cell_type": "code",
   "execution_count": null,
   "metadata": {
    "collapsed": false,
    "scrolled": true
   },
   "outputs": [],
   "source": [
    "vocList = {}\n",
    "docLenght = {}\n",
    "util_index.buildIndexFile(vocList, docLenght, WRITING_PATH_POSTING_LIST, NB_DOCUMENT)"
   ]
  },
  {
   "cell_type": "markdown",
   "metadata": {},
   "source": [
    "writing in file, the format is : \"docId\" \"nombre Of word contained in the doc\""
   ]
  },
  {
   "cell_type": "code",
   "execution_count": null,
   "metadata": {
    "collapsed": true
   },
   "outputs": [],
   "source": [
    "util_index.writingDictInFile(docLenght, WRITING_PATH_UTIL, NAME_DOC_LIST, \" \")"
   ]
  },
  {
   "cell_type": "markdown",
   "metadata": {},
   "source": [
    "<h1> Creation Posting List</h1>"
   ]
  },
  {
   "cell_type": "code",
   "execution_count": null,
   "metadata": {
    "collapsed": false
   },
   "outputs": [],
   "source": [
    "util_posting.createPostingList()"
   ]
  },
  {
   "cell_type": "markdown",
   "metadata": {},
   "source": [
    "<h1>Graph Generation</h1>"
   ]
  },
  {
   "cell_type": "code",
   "execution_count": null,
   "metadata": {
    "collapsed": false
   },
   "outputs": [],
   "source": [
    "nbCuts = [10, 50, 100, 500, 1000, 5000, 10000, 50000]\n",
    "result = graph.computeDictRelationWithSizeTime(nbCuts,WRITING_PATH_POSTING_LIST, NAME_DOC_LIST)\n",
    "graph.displayResult( result,\n",
    "                    'trade-off size document / time needed to build posting list', \n",
    "                    'log(mean size document in bytes)',\n",
    "                    'time in second')"
   ]
  },
  {
   "cell_type": "markdown",
   "metadata": {},
   "source": [
    "<h1>Fagins</h1>"
   ]
  },
  {
   "cell_type": "code",
   "execution_count": null,
   "metadata": {
    "collapsed": false
   },
   "outputs": [],
   "source": [
    "posting_lists = util_posting.creat_posting_list_obj_list(\"cat dog\")"
   ]
  },
  {
   "cell_type": "code",
   "execution_count": null,
   "metadata": {
    "collapsed": false
   },
   "outputs": [],
   "source": [
    "resultFagin = fagin.top_k_thresh(posting_lists, 4, epsilon=0.0)"
   ]
  },
  {
   "cell_type": "code",
   "execution_count": null,
   "metadata": {
    "collapsed": false
   },
   "outputs": [],
   "source": [
    "print(resultFagin)"
   ]
  }
 ],
 "metadata": {
  "anaconda-cloud": {},
  "kernelspec": {
   "display_name": "Python [default]",
   "language": "python",
   "name": "python3"
  },
  "language_info": {
   "codemirror_mode": {
    "name": "ipython",
    "version": 3
   },
   "file_extension": ".py",
   "mimetype": "text/x-python",
   "name": "python",
   "nbconvert_exporter": "python",
   "pygments_lexer": "ipython3",
   "version": "3.5.2"
  },
  "widgets": {
   "state": {
    "072aa9d1e66c4081b586806ff2e279b2": {
     "views": [
      {
       "cell_index": 14
      }
     ]
    },
    "0c70d4d1bd174638a0d988e0c98b9716": {
     "views": [
      {
       "cell_index": 14
      }
     ]
    },
    "11e33fdf740649f08d42009e69095234": {
     "views": [
      {
       "cell_index": 14
      }
     ]
    },
    "1fe1676bad5f45ec8d51aaace67d2602": {
     "views": [
      {
       "cell_index": 14
      }
     ]
    },
    "4273116f835c4318b68cb2a28071d48b": {
     "views": [
      {
       "cell_index": 14
      }
     ]
    },
    "4ccafba161b14b97b25561465e9f813e": {
     "views": [
      {
       "cell_index": 14
      }
     ]
    },
    "63e04f6ef60a45ef86954cebb56d462e": {
     "views": [
      {
       "cell_index": 14
      }
     ]
    },
    "6542130b3c4e4deeb3f16ba96ff3fd0a": {
     "views": [
      {
       "cell_index": 14
      }
     ]
    },
    "6db8e260602c40a99ca42dac6ac83116": {
     "views": [
      {
       "cell_index": 14
      }
     ]
    },
    "9c0c188f6aad420482885ff3984a7948": {
     "views": [
      {
       "cell_index": 14
      }
     ]
    },
    "ca9d0c9b4d884372ae9d5042183fc49c": {
     "views": [
      {
       "cell_index": 14
      }
     ]
    },
    "cb9936f8a01643bfb97adb2919bdd314": {
     "views": [
      {
       "cell_index": 14
      }
     ]
    },
    "d045cf3613a644b588129be929bdf730": {
     "views": [
      {
       "cell_index": 14
      }
     ]
    },
    "d216b64bba6d44fa96acb1fcdc71a5d7": {
     "views": [
      {
       "cell_index": 14
      }
     ]
    },
    "e3760e3360c84544835a2c030b4491b5": {
     "views": [
      {
       "cell_index": 14
      }
     ]
    }
   },
   "version": "1.2.0"
  }
 },
 "nbformat": 4,
 "nbformat_minor": 2
}
